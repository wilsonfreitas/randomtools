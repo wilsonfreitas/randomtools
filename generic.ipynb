{
 "metadata": {
  "name": ""
 },
 "nbformat": 3,
 "nbformat_minor": 0,
 "worksheets": [
  {
   "cells": [
    {
     "cell_type": "code",
     "collapsed": false,
     "input": [
      "%pylab inline"
     ],
     "language": "python",
     "metadata": {},
     "outputs": [
      {
       "output_type": "stream",
       "stream": "stdout",
       "text": [
        "Populating the interactive namespace from numpy and matplotlib\n"
       ]
      },
      {
       "output_type": "stream",
       "stream": "stderr",
       "text": [
        "WARNING: pylab import has clobbered these variables: ['sample', 'rand', 'std']\n",
        "`%pylab --no-import-all` prevents importing * from pylab and numpy\n"
       ]
      }
     ],
     "prompt_number": 24
    },
    {
     "cell_type": "code",
     "collapsed": false,
     "input": [
      "import randomtools as rt\n",
      "from scipy import stats\n",
      "import operator as op"
     ],
     "language": "python",
     "metadata": {},
     "outputs": [],
     "prompt_number": 25
    },
    {
     "cell_type": "code",
     "collapsed": false,
     "input": [
      "rnd = random.random"
     ],
     "language": "python",
     "metadata": {},
     "outputs": [],
     "prompt_number": 26
    },
    {
     "cell_type": "code",
     "collapsed": false,
     "input": [
      "N = 10\n",
      "v_and_v2 = lambda v: (v, v*v)\n",
      "sum_pairs = lambda x, y: (x[0]+y[0], x[1]+y[1])\n",
      "smp = ( v_and_v2(rnd()) for i in range(N) )\n",
      "m, s2 = map(lambda x: x/float(N), reduce(sum_pairs, smp))\n",
      "st = sqrt( s2 - m*m )\n",
      "print m, st\n",
      "#sample_arr = np.array(sample)\n",
      "#print np.mean(sample_arr[:,0]), np.std(sample_arr[:,0])"
     ],
     "language": "python",
     "metadata": {},
     "outputs": [
      {
       "output_type": "stream",
       "stream": "stdout",
       "text": [
        "0.455244837432 0.285702909389\n"
       ]
      }
     ],
     "prompt_number": 27
    },
    {
     "cell_type": "code",
     "collapsed": false,
     "input": [
      "N = 1000\n",
      "rnorm = rt.clt(rnd, 12)\n",
      "smp = list(rnorm(N))\n",
      "print stats.ttest_1samp(smp, 0.0)\n",
      "m = mean(smp)\n",
      "st = std(smp)/sqrt(N-1)\n",
      "print (m/st, (m/st<0 and stats.t.cdf(m/st, N-1)*2) or (1-stats.t.cdf(m/std, N-1))*2)"
     ],
     "language": "python",
     "metadata": {},
     "outputs": [
      {
       "output_type": "stream",
       "stream": "stdout",
       "text": [
        "(-0.061667500216087225, 0.95083995675779742)\n",
        "(-0.061667500216087211, 0.95083995675779742)\n"
       ]
      }
     ],
     "prompt_number": 28
    },
    {
     "cell_type": "code",
     "collapsed": false,
     "input": [
      "stats.kstest(smp, 'norm')"
     ],
     "language": "python",
     "metadata": {},
     "outputs": [
      {
       "metadata": {},
       "output_type": "pyout",
       "prompt_number": 29,
       "text": [
        "(0.024106208046078603, 0.60649550423601495)"
       ]
      }
     ],
     "prompt_number": 29
    },
    {
     "cell_type": "code",
     "collapsed": false,
     "input": [
      "import inspect\n",
      "runif = rt.uniform(rnd, -1, 1)\n",
      "f = dict(inspect.getmembers(runif))"
     ],
     "language": "python",
     "metadata": {},
     "outputs": [],
     "prompt_number": 39
    },
    {
     "cell_type": "code",
     "collapsed": false,
     "input": [
      "f['func_closure']"
     ],
     "language": "python",
     "metadata": {},
     "outputs": [
      {
       "metadata": {},
       "output_type": "pyout",
       "prompt_number": 40,
       "text": [
        "(<cell at 0x104544520: tuple object at 0x10454c1e0>,\n",
        " <cell at 0x103856718: function object at 0x1037eeb18>)"
       ]
      }
     ],
     "prompt_number": 40
    },
    {
     "cell_type": "code",
     "collapsed": false,
     "input": [
      "inspect.getmembers(f['func_closure'][0])"
     ],
     "language": "python",
     "metadata": {},
     "outputs": [
      {
       "metadata": {},
       "output_type": "pyout",
       "prompt_number": 41,
       "text": [
        "[('__class__', cell),\n",
        " ('__cmp__', <method-wrapper '__cmp__' of cell object at 0x104544520>),\n",
        " ('__delattr__', <method-wrapper '__delattr__' of cell object at 0x104544520>),\n",
        " ('__doc__', None),\n",
        " ('__format__', <function __format__>),\n",
        " ('__getattribute__',\n",
        "  <method-wrapper '__getattribute__' of cell object at 0x104544520>),\n",
        " ('__hash__', <method-wrapper '__hash__' of cell object at 0x104544520>),\n",
        " ('__init__', <method-wrapper '__init__' of cell object at 0x104544520>),\n",
        " ('__new__', <function __new__>),\n",
        " ('__reduce__', <function __reduce__>),\n",
        " ('__reduce_ex__', <function __reduce_ex__>),\n",
        " ('__repr__', <method-wrapper '__repr__' of cell object at 0x104544520>),\n",
        " ('__setattr__', <method-wrapper '__setattr__' of cell object at 0x104544520>),\n",
        " ('__sizeof__', <function __sizeof__>),\n",
        " ('__str__', <method-wrapper '__str__' of cell object at 0x104544520>),\n",
        " ('__subclasshook__', <function __subclasshook__>),\n",
        " ('cell_contents', (<function random_sample>, -1, 1))]"
       ]
      }
     ],
     "prompt_number": 41
    },
    {
     "cell_type": "code",
     "collapsed": false,
     "input": [
      "inspect.getargspec(runif)"
     ],
     "language": "python",
     "metadata": {},
     "outputs": [
      {
       "metadata": {},
       "output_type": "pyout",
       "prompt_number": 42,
       "text": [
        "ArgSpec(args=['N'], varargs=None, keywords=None, defaults=None)"
       ]
      }
     ],
     "prompt_number": 42
    },
    {
     "cell_type": "code",
     "collapsed": false,
     "input": [
      "range(10)[1:]"
     ],
     "language": "python",
     "metadata": {},
     "outputs": [
      {
       "metadata": {},
       "output_type": "pyout",
       "prompt_number": 43,
       "text": [
        "[1, 2, 3, 4, 5, 6, 7, 8, 9]"
       ]
      }
     ],
     "prompt_number": 43
    },
    {
     "cell_type": "code",
     "collapsed": false,
     "input": [
      "def t(): return 1"
     ],
     "language": "python",
     "metadata": {},
     "outputs": [],
     "prompt_number": 44
    },
    {
     "cell_type": "code",
     "collapsed": false,
     "input": [
      "t.__name__"
     ],
     "language": "python",
     "metadata": {},
     "outputs": [
      {
       "metadata": {},
       "output_type": "pyout",
       "prompt_number": 49,
       "text": [
        "'t'"
       ]
      }
     ],
     "prompt_number": 49
    },
    {
     "cell_type": "code",
     "collapsed": false,
     "input": [
      "d = {'a': 1, 'b': 2, 'c': 3}"
     ],
     "language": "python",
     "metadata": {},
     "outputs": [],
     "prompt_number": 65
    },
    {
     "cell_type": "code",
     "collapsed": false,
     "input": [
      "b = d.copy()"
     ],
     "language": "python",
     "metadata": {},
     "outputs": [],
     "prompt_number": 66
    },
    {
     "cell_type": "code",
     "collapsed": false,
     "input": [
      "d.pop('a')"
     ],
     "language": "python",
     "metadata": {},
     "outputs": [
      {
       "metadata": {},
       "output_type": "pyout",
       "prompt_number": 67,
       "text": [
        "1"
       ]
      }
     ],
     "prompt_number": 67
    },
    {
     "cell_type": "code",
     "collapsed": false,
     "input": [
      "d"
     ],
     "language": "python",
     "metadata": {},
     "outputs": [
      {
       "metadata": {},
       "output_type": "pyout",
       "prompt_number": 68,
       "text": [
        "{'b': 2, 'c': 3}"
       ]
      }
     ],
     "prompt_number": 68
    },
    {
     "cell_type": "code",
     "collapsed": false,
     "input": [
      "b"
     ],
     "language": "python",
     "metadata": {},
     "outputs": [
      {
       "metadata": {},
       "output_type": "pyout",
       "prompt_number": 69,
       "text": [
        "{'a': 1, 'b': 2, 'c': 3}"
       ]
      }
     ],
     "prompt_number": 69
    },
    {
     "cell_type": "code",
     "collapsed": false,
     "input": [
      "a = **b"
     ],
     "language": "python",
     "metadata": {},
     "outputs": [
      {
       "ename": "SyntaxError",
       "evalue": "invalid syntax (<ipython-input-70-cb98dde819cf>, line 1)",
       "output_type": "pyerr",
       "traceback": [
        "\u001b[0;36m  File \u001b[0;32m\"<ipython-input-70-cb98dde819cf>\"\u001b[0;36m, line \u001b[0;32m1\u001b[0m\n\u001b[0;31m    a = **b\u001b[0m\n\u001b[0m         ^\u001b[0m\n\u001b[0;31mSyntaxError\u001b[0m\u001b[0;31m:\u001b[0m invalid syntax\n"
       ]
      }
     ],
     "prompt_number": 70
    },
    {
     "cell_type": "code",
     "collapsed": false,
     "input": [],
     "language": "python",
     "metadata": {},
     "outputs": []
    }
   ],
   "metadata": {}
  }
 ]
}