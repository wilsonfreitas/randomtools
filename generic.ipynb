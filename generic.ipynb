{
 "metadata": {
  "name": "generic"
 },
 "nbformat": 3,
 "nbformat_minor": 0,
 "worksheets": [
  {
   "cells": [
    {
     "cell_type": "code",
     "collapsed": false,
     "input": [
      "%pylab inline"
     ],
     "language": "python",
     "metadata": {},
     "outputs": [
      {
       "output_type": "stream",
       "stream": "stdout",
       "text": [
        "\n",
        "Welcome to pylab, a matplotlib-based Python environment [backend: module://IPython.zmq.pylab.backend_inline].\n",
        "For more information, type 'help(pylab)'.\n"
       ]
      }
     ],
     "prompt_number": 2
    },
    {
     "cell_type": "code",
     "collapsed": false,
     "input": [
      "import randomtools as rt\n",
      "import numpy as np\n",
      "from scipy import stats\n",
      "import operator as op"
     ],
     "language": "python",
     "metadata": {},
     "outputs": [],
     "prompt_number": 48
    },
    {
     "cell_type": "code",
     "collapsed": false,
     "input": [
      "rand = np.random.random"
     ],
     "language": "python",
     "metadata": {},
     "outputs": [],
     "prompt_number": 49
    },
    {
     "cell_type": "code",
     "collapsed": false,
     "input": [
      "N = 10\n",
      "v_and_v2 = lambda v: (v, v*v)\n",
      "sum_pairs = lambda x, y: (x[0]+y[0], x[1]+y[1])\n",
      "sample = ( v_and_v2(rand()) for i in range(N) )\n",
      "m, s2 = map(lambda x: x/float(N), reduce(sum_pairs, sample))\n",
      "std = sqrt( s2 - m*m )\n",
      "print m, std\n",
      "#sample_arr = np.array(sample)\n",
      "#print np.mean(sample_arr[:,0]), np.std(sample_arr[:,0])"
     ],
     "language": "python",
     "metadata": {},
     "outputs": [
      {
       "output_type": "stream",
       "stream": "stdout",
       "text": [
        "0.610667283025 0.300205390732\n"
       ]
      }
     ],
     "prompt_number": 50
    },
    {
     "cell_type": "code",
     "collapsed": false,
     "input": [
      "N = 1000\n",
      "randn = rt.clt(rand)\n",
      "sample = [randn() for i in range(N)]\n",
      "print stats.ttest_1samp(sample, 0.0)\n",
      "m = np.mean(sample)\n",
      "std = np.std(sample)/np.sqrt(N-1)\n",
      "print (m/std, (m/std<0 and stats.t.cdf(m/std, N-1)*2) or (1-stats.t.cdf(m/std, N-1))*2)"
     ],
     "language": "python",
     "metadata": {},
     "outputs": [
      {
       "output_type": "stream",
       "stream": "stdout",
       "text": [
        "(0.20580644816702498, 0.83698403520272602)\n",
        "(0.20580644816702495, 0.83698403520272602)\n"
       ]
      }
     ],
     "prompt_number": 147
    },
    {
     "cell_type": "code",
     "collapsed": false,
     "input": [
      "stats.kstest(sample, 'norm')"
     ],
     "language": "python",
     "metadata": {},
     "outputs": [
      {
       "output_type": "pyout",
       "prompt_number": 151,
       "text": [
        "(0.019834575717001257, 0.82631690533946678)"
       ]
      }
     ],
     "prompt_number": 151
    },
    {
     "cell_type": "code",
     "collapsed": false,
     "input": [],
     "language": "python",
     "metadata": {},
     "outputs": []
    }
   ],
   "metadata": {}
  }
 ]
}